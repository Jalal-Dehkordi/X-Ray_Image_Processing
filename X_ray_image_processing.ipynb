{
  "nbformat": 4,
  "nbformat_minor": 0,
  "metadata": {
    "colab": {
      "private_outputs": true,
      "provenance": []
    },
    "kernelspec": {
      "name": "python3",
      "display_name": "Python 3"
    },
    "language_info": {
      "name": "python"
    }
  },
  "cells": [
    {
      "cell_type": "code",
      "execution_count": null,
      "metadata": {
        "id": "yTlAaj6y-xun"
      },
      "outputs": [],
      "source": [
        "from google.colab import drive\n",
        "drive.mount('/content/drive')"
      ]
    },
    {
      "cell_type": "code",
      "source": [
        "import numpy as np\n",
        "import cv2\n",
        "from matplotlib import pyplot as plt"
      ],
      "metadata": {
        "id": "QUN-GLwU_ncE"
      },
      "execution_count": null,
      "outputs": []
    },
    {
      "cell_type": "code",
      "source": [
        "imagen_gris = cv2.imread('/content/drive/My Drive/rodilla.jfif', cv2.IMREAD_GRAYSCALE)\n",
        "\n",
        "umbral_max = 255\n",
        "umbral_min = 15\n",
        "\n",
        "imagen_cutanea = cv2.inRange(imagen_gris, umbral_min, umbral_max)\n",
        "\n",
        "imagenSegmentadaPorPiel = cv2.cvtColor(imagen_cutanea, cv2.COLOR_BGR2RGB)\n",
        "\n",
        "plt.imshow(imagen_cutanea, cmap=\"gray\")"
      ],
      "metadata": {
        "id": "yvkcQj1M_niP"
      },
      "execution_count": null,
      "outputs": []
    },
    {
      "cell_type": "code",
      "source": [
        "umbral_max = 230\n",
        "umbral_min = 80\n",
        "\n",
        "imagen_musculos = cv2.inRange(imagen_gris, umbral_min, umbral_max)\n",
        "\n",
        "imagenSegmentadaPorTejido = cv2.cvtColor(imagen_musculos, cv2.COLOR_BGR2RGB)\n",
        "\n",
        "plt.imshow(imagen_musculos, cmap=\"gray\")"
      ],
      "metadata": {
        "id": "_-yDQUgM_nmq"
      },
      "execution_count": null,
      "outputs": []
    },
    {
      "cell_type": "code",
      "source": [
        "img_rgb = cv2.cvtColor(imagen_gris, cv2.COLOR_BGR2RGB)\n",
        "\n",
        "# Crear copias de la imagen para aislar cada canal\n",
        "img_R = img_rgb.copy()\n",
        "img_G = img_rgb.copy()\n",
        "img_B = img_rgb.copy()\n",
        "\n",
        "# Aislar el canal R\n",
        "img_R[:, :, 1] = 0  # G\n",
        "img_R[:, :, 2] = 0  # B\n",
        "\n",
        "# Aislar el canal G\n",
        "img_G[:, :, 0] = 0  # R\n",
        "img_G[:, :, 2] = 0  # B\n",
        "\n",
        "# Aislar el canal B\n",
        "img_B[:, :, 0] = 0  # R\n",
        "img_B[:, :, 1] = 0  # G\n",
        "\n",
        "# Visualizar las imágenes\n",
        "fig, ax = plt.subplots(1, 4, figsize=(20, 5))\n",
        "\n",
        "ax[0].imshow(img_rgb)\n",
        "ax[0].set_title(\"Imagen original\")\n",
        "ax[0].axis('off')\n",
        "\n",
        "ax[1].imshow(img_R)\n",
        "ax[1].set_title(\"Canal Rojo\")\n",
        "ax[1].axis('off')\n",
        "\n",
        "ax[2].imshow(img_G)\n",
        "ax[2].set_title(\"Canal Verde\")\n",
        "ax[2].axis('off')\n",
        "\n",
        "ax[3].imshow(img_B)\n",
        "ax[3].set_title(\"Canal Azul\")\n",
        "ax[3].axis('off')\n",
        "\n",
        "plt.show()"
      ],
      "metadata": {
        "id": "CJSld7c1_nra"
      },
      "execution_count": null,
      "outputs": []
    },
    {
      "cell_type": "code",
      "source": [
        "imagen_G_gris = cv2.cvtColor(img_G, cv2.COLOR_RGB2GRAY)\n",
        "\n",
        "hist = cv2.calcHist([imagen_G_gris], [0], None, [256], [0, 256])\n",
        "\n",
        "# Visualizar la imagen y su histograma\n",
        "fig, ax = plt.subplots(1, 2, figsize=(12, 5))\n",
        "\n",
        "# Mostrar la imagen en escala de grises\n",
        "ax[0].imshow(imagen_G_gris, cmap='gray')\n",
        "ax[0].set_title(\"Imagen en Grises\")\n",
        "ax[0].axis('off')\n",
        "\n",
        "# Mostrar el histograma\n",
        "ax[1].plot(hist, color='black')\n",
        "ax[1].set_title(\"Histograma\")\n",
        "ax[1].set_xlabel(\"Intensidad de Pixel\")\n",
        "ax[1].set_ylabel(\"Cantidad de Píxeles\")\n",
        "ax[1].grid(True)\n",
        "\n",
        "plt.tight_layout()\n",
        "plt.show()"
      ],
      "metadata": {
        "id": "tmIKucXEF0wq"
      },
      "execution_count": null,
      "outputs": []
    },
    {
      "cell_type": "code",
      "source": [
        "result_not = cv2.bitwise_not(imagen_G_gris)\n",
        "\n",
        "plt.imshow(result_not, cmap = 'gray')"
      ],
      "metadata": {
        "id": "_cgmUq_tHN3p"
      },
      "execution_count": null,
      "outputs": []
    },
    {
      "cell_type": "code",
      "source": [
        "laplacian = cv2.Laplacian(result_not, cv2.CV_64F)\n",
        "\n",
        "plt.subplot(1, 2, 1)\n",
        "plt.imshow(result_not, cmap='gray')\n",
        "plt.title('Imagen Original')\n",
        "plt.subplot(1, 2, 2)\n",
        "plt.imshow(laplacian, cmap='gray')\n",
        "plt.title('Imagen con Realce de Bordes')\n",
        "plt.show()\n"
      ],
      "metadata": {
        "id": "ePhofpJGJWGl"
      },
      "execution_count": null,
      "outputs": []
    },
    {
      "cell_type": "code",
      "source": [
        "blurred = cv2.GaussianBlur(result_not, (3, 3), 0)\n",
        "\n",
        "sobel_x = cv2.Sobel(blurred, cv2.CV_64F, 1, 0, ksize=5)\n",
        "sobel_y = cv2.Sobel(blurred, cv2.CV_64F, 0, 1, ksize=5)\n",
        "gradient_magnitude = np.sqrt(sobel_x**2 + sobel_y**2)\n",
        "plt.subplot(1, 2, 1)\n",
        "plt.imshow(blurred, cmap='gray')\n",
        "plt.title('Imagen Original')\n",
        "plt.subplot(1, 2, 2)\n",
        "plt.imshow(gradient_magnitude, cmap='gray')\n",
        "plt.title('Magnitud del Gradiente')\n",
        "plt.show()"
      ],
      "metadata": {
        "id": "TzHsc8NlhNRo"
      },
      "execution_count": null,
      "outputs": []
    },
    {
      "cell_type": "code",
      "source": [
        "result_not = cv2.bitwise_not(gradient_magnitude)\n",
        "\n",
        "plt.imshow(result_not, cmap = 'turbo')"
      ],
      "metadata": {
        "id": "3Sc4uUKBhX7S"
      },
      "execution_count": null,
      "outputs": []
    },
    {
      "cell_type": "code",
      "source": [
        "\n",
        "print(imagen_cutanea.shape)\n",
        "res = gradient_magnitude + imagen_cutanea\n",
        "\n",
        "print(res)\n",
        "plt.imshow(res, cmap=\"gray\")"
      ],
      "metadata": {
        "id": "pmmqiAgMkURA"
      },
      "execution_count": null,
      "outputs": []
    },
    {
      "cell_type": "code",
      "source": [
        "hueso_gris = cv2.imread('/content/drive/My Drive/hueso.png', cv2.IMREAD_GRAYSCALE)\n",
        "\n",
        "img_rgb = cv2.cvtColor(hueso_gris, cv2.COLOR_BGR2RGB)\n",
        "\n",
        "\n",
        "imagen_G_gris = cv2.cvtColor(img_rgb, cv2.COLOR_RGB2GRAY)\n",
        "\n",
        "hist = cv2.calcHist([imagen_G_gris], [0], None, [256], [0, 256])\n",
        "\n",
        "# Visualizar la imagen y su histograma\n",
        "fig, ax = plt.subplots(1, 2, figsize=(12, 5))\n",
        "\n",
        "# Mostrar la imagen en escala de grises\n",
        "ax[0].imshow(imagen_G_gris, cmap='gray')\n",
        "ax[0].set_title(\"Imagen en Grises\")\n",
        "ax[0].axis('off')\n",
        "\n",
        "# Mostrar el histograma\n",
        "ax[1].plot(hist, color='blue')\n",
        "ax[1].set_title(\"Histograma\")\n",
        "ax[1].set_xlabel(\"Intensidad de Pixel\")\n",
        "ax[1].set_ylabel(\"Cantidad de Píxeles\")\n",
        "ax[1].grid(True)\n",
        "\n",
        "plt.tight_layout()\n",
        "plt.show()"
      ],
      "metadata": {
        "id": "X6UGrh82k1ao"
      },
      "execution_count": null,
      "outputs": []
    },
    {
      "cell_type": "code",
      "source": [
        "result_not = cv2.bitwise_not(img_G)\n",
        "\n",
        "plt.imshow(result_not, cmap = 'copper')"
      ],
      "metadata": {
        "id": "Kq8IO3galunC"
      },
      "execution_count": null,
      "outputs": []
    },
    {
      "cell_type": "code",
      "source": [
        "imagen_G_gris = cv2.cvtColor(result_not, cv2.COLOR_RGB2GRAY)\n",
        "\n",
        "hist = cv2.calcHist([imagen_G_gris], [0], None, [256], [0, 256])\n",
        "\n",
        "# Visualizar la imagen y su histograma\n",
        "fig, ax = plt.subplots(1, 2, figsize=(12, 5))\n",
        "\n",
        "# Mostrar la imagen en escala de grises\n",
        "ax[0].imshow(imagen_G_gris, cmap='gray')\n",
        "ax[0].set_title(\"Imagen en Grises\")\n",
        "ax[0].axis('off')\n",
        "\n",
        "# Mostrar el histograma\n",
        "ax[1].plot(hist, color='black')\n",
        "ax[1].set_title(\"Histograma\")\n",
        "ax[1].set_xlabel(\"Intensidad de Pixel\")\n",
        "ax[1].set_ylabel(\"Cantidad de Píxeles\")\n",
        "ax[1].grid(True)\n",
        "\n",
        "plt.tight_layout()\n",
        "plt.show()"
      ],
      "metadata": {
        "id": "RAQ6uxt-mwMK"
      },
      "execution_count": null,
      "outputs": []
    },
    {
      "cell_type": "code",
      "source": [
        "umbral_max = 255\n",
        "umbral_min = 216\n",
        "\n",
        "imagen_hueso = cv2.inRange(imagen_G_gris, umbral_min, umbral_max)\n",
        "\n",
        "imagenSegmentadaPorHueso2 = cv2.cvtColor(imagen_hueso, cv2.COLOR_BGR2RGB)\n",
        "\n",
        "plt.imshow(imagen_hueso, cmap=\"gray\")"
      ],
      "metadata": {
        "id": "6ScvIbxTnVWw"
      },
      "execution_count": null,
      "outputs": []
    },
    {
      "cell_type": "code",
      "source": [
        "result_not2 = cv2.bitwise_not(imagenSegmentadaPorHueso2)\n",
        "\n",
        "plt.imshow(result_not2, cmap = 'gray')\n",
        "imagen_tejido = result_not2"
      ],
      "metadata": {
        "id": "0UKhRbQHn-WP"
      },
      "execution_count": null,
      "outputs": []
    },
    {
      "cell_type": "code",
      "source": [],
      "metadata": {
        "id": "CL8GfRLjpdG3"
      },
      "execution_count": null,
      "outputs": []
    }
  ]
}